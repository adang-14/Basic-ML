{
 "cells": [
  {
   "cell_type": "markdown",
   "id": "b039b5c8-3876-4dc0-adec-f59e6eaf7ea0",
   "metadata": {},
   "source": [
    "# Homework 3: This HW is based on the code for Lecture 7 (Gradient Descent).\n",
    "\n",
    "## Instructions: \n",
    "\n",
    "Place the answer to your code only in the area specified. Also, make sure to run all your code, meaning, press >> to \"Restart Kernel and Run All Cells\". This should plot all outputs including your answers to homework questions. After this, go to file (top left) and select \"Print\". Save your file as a PDF and upload the PDF to Canvas."
   ]
  },
  {
   "cell_type": "markdown",
   "id": "d99909b1-0333-4d4a-8b60-bbe7b8e08472",
   "metadata": {},
   "source": [
    "# Question:\n",
    "\n",
    "Try to a build a simple optimizer to minimize:\n",
    "\n",
    "    f(w) = a[0] + a[1]*w + a[2]*w^2 + ... + a[d]*w^d\n",
    "    \n",
    "for the coefficients `a = [0,0.5,-2,0,1]`.\n",
    "\n",
    "* Plot the function f(w) (2 points)\n",
    "* Can you see where the minima is? (1 point)\n",
    "* Write a function that outputs f(w) and its gradient (3 points).\n",
    "* Run the optimizer on the function to see if it finds the minima (3 poimts).\n",
    "* Print the funciton value and number of iterations (3 points).\n",
    "* Instead of writing the function for a specific coefficient vector `a`, create a class that works for an arbitrary vector `a` (3 points).\n",
    "\n",
    "You may wish to use the `poly.polyval(w,a)` method to evaluate the polynomial."
   ]
  },
  {
   "cell_type": "code",
   "execution_count": 1,
   "id": "c756c3ab-70d3-4e66-99fd-51ad82c5c781",
   "metadata": {},
   "outputs": [],
   "source": [
    "import numpy.polynomial.polynomial as poly\n",
    "import numpy as np\n",
    "import matplotlib.pyplot as plt\n",
    "%matplotlib inline"
   ]
  },
  {
   "cell_type": "markdown",
   "id": "31087a97-cde5-485d-973a-c93d9c7ac9a4",
   "metadata": {},
   "source": [
    "1) Plot the function f(w)"
   ]
  },
  {
   "cell_type": "code",
   "execution_count": 2,
   "id": "9e4f21d9-65b1-43c7-8dd9-b050f17400df",
   "metadata": {},
   "outputs": [
    {
     "data": {
      "image/png": "[encoded data removed]",
      "text/plain": [
       "<Figure size 640x480 with 1 Axes>"
      ]
     },
     "metadata": {},
     "output_type": "display_data"
    }
   ],
   "source": [
    "w = np.linspace(-2,2,1000000)\n",
    "a = [0,0.5,-2,0,1]\n",
    "fw = poly.polyval(w,a)\n",
    "plt.plot(w,fw,'-',linewidth=3)\n",
    "plt.xlabel('w')\n",
    "plt.ylabel('f(w)')\n",
    "plt.grid(True)"
   ]
  },
  {
   "cell_type": "markdown",
   "id": "41f80623-9543-4a0f-b2db-85610a9007fc",
   "metadata": {},
   "source": [
    "2) Can you see where the minima is?"
   ]
  },
  {
   "cell_type": "code",
   "execution_count": 3,
   "id": "5781a420-498b-467f-8747-35c620de2392",
   "metadata": {},
   "outputs": [
    {
     "name": "stdout",
     "output_type": "stream",
     "text": [
      "The minima is at (-1.0575.,-1.5148)\n"
     ]
    }
   ],
   "source": [
    "print(f'The minima is at ({float(w[fw==min(fw)]):.4f}.,{min(fw):.4f})')"
   ]
  },
  {
   "cell_type": "markdown",
   "id": "852b6429-ed63-4404-a172-ff85c28d9e02",
   "metadata": {},
   "source": [
    "3) Write a function that outputs f(w) and its gradient\n",
    "\n",
    "$$\n",
    "f(w) = 0.5*w - 2*w^2 + w^4 \\\\\n",
    "f'(w) = 0.5 - 4*w + 4w^3\n",
    "$$"
   ]
  },
  {
   "cell_type": "code",
   "execution_count": 4,
   "id": "98f91426-201c-4c33-9564-92d9a80c8d8e",
   "metadata": {},
   "outputs": [
    {
     "name": "stdout",
     "output_type": "stream",
     "text": [
      "[0.5, -4, 0, 4]\n"
     ]
    }
   ],
   "source": [
    "print([a[i] * i for i in range(1, len(a))]) # this is the way to get coefficients for derivates"
   ]
  },
  {
   "cell_type": "code",
   "execution_count": 5,
   "id": "520b3263-1313-4189-8f9d-b8f1f1c0e200",
   "metadata": {},
   "outputs": [],
   "source": [
    "def feval(w):\n",
    "    a=[0,0.5,-2,0,1]\n",
    "    fw = poly.polyval(w,a)\n",
    "    fgrad = poly.polyval(w,[a[i] * i for i in range(1, len(a))])  \n",
    "    return fw, fgrad"
   ]
  },
  {
   "cell_type": "markdown",
   "id": "31b8cab5-24b8-4139-b50f-1eebce633956",
   "metadata": {},
   "source": [
    "4) Run the optimizer on the function to see if it finds the minima "
   ]
  },
  {
   "cell_type": "code",
   "execution_count": 6,
   "id": "fee43545-3b08-486a-bce4-22beba918d32",
   "metadata": {},
   "outputs": [],
   "source": [
    "def grad_opt_sim(f, winit, lr=1e-3,nit=1000,tol=1e-10):\n",
    "    \"\"\"\n",
    "    Simple gradient descent optimization\n",
    "    \n",
    "    f:  A function that returns f, fgrad, the objective\n",
    "            function and its gradient\n",
    "    winit:  Initial estimate\n",
    "    lr:     learning rate\n",
    "    nit:    Number of iterations\n",
    "    tol:  tolerance to compare if value changes between iterations\n",
    "    \"\"\"\n",
    "    \n",
    "    # Initialize\n",
    "    w0 = winit\n",
    "    count = 0\n",
    "  \n",
    "    # Loop over iterations\n",
    "    for it in range(nit):\n",
    "        \n",
    "        if it > 0:\n",
    "            f0_prev = f0\n",
    "\n",
    "        # Evaluate the function and gradient\n",
    "        f0, fgrad0 = f(w0)\n",
    "        \n",
    "        # check if fw value not changing\n",
    "        if it > 0:\n",
    "            if abs(f0-f0_prev) < tol:\n",
    "                count += 1\n",
    "            else:\n",
    "                count = 0\n",
    "            \n",
    "        if count > 5:\n",
    "            break\n",
    "        \n",
    "\n",
    "        # Take a gradient step\n",
    "        w0 = w0 - lr*fgrad0\n",
    "        \n",
    "\n",
    "    return w0, f0, it"
   ]
  },
  {
   "cell_type": "code",
   "execution_count": 7,
   "id": "927350da-d59b-411b-ad31-72ba0814dcf3",
   "metadata": {
    "tags": []
   },
   "outputs": [],
   "source": [
    "min_x, min_y, it = grad_opt_sim(feval, winit=-2, lr=5e-4,nit=10000)"
   ]
  },
  {
   "cell_type": "markdown",
   "id": "8c931050-d41b-4f5b-8ff8-ba935b080f39",
   "metadata": {},
   "source": [
    "It seems like the optimizer could find the minima."
   ]
  },
  {
   "cell_type": "markdown",
   "id": "b68bb8ae-fb51-4f19-93e8-1a55b03f9af1",
   "metadata": {},
   "source": [
    "5. Print the funciton value and number of iterations"
   ]
  },
  {
   "cell_type": "code",
   "execution_count": 8,
   "id": "ac13efc3-9611-45c5-9959-45b20579029f",
   "metadata": {},
   "outputs": [
    {
     "name": "stdout",
     "output_type": "stream",
     "text": [
      "The minima is at (-1.0575,-1.5148) at iteration # 1916.\n"
     ]
    }
   ],
   "source": [
    "print(f'The minima is at ({min_x:.4f},{min_y:.4f}) at iteration # {it}.')"
   ]
  },
  {
   "cell_type": "markdown",
   "id": "170fc824-155e-40b7-b541-d104d9a06bf9",
   "metadata": {},
   "source": [
    "6. Instead of writing the function for a specific coefficient vector `a`, create a class that works for an arbitrary vector `a`\n",
    "\n",
    "Class that works for an arbitrary vector `a`:"
   ]
  },
  {
   "cell_type": "code",
   "execution_count": 9,
   "id": "7a4c0897-a52d-4df4-b2e0-92eaa28d804a",
   "metadata": {},
   "outputs": [],
   "source": [
    "class polyFunc(object):\n",
    "    def __init__(self,w):\n",
    "        \"\"\"\n",
    "        Class to computes the gradient for polynomial\n",
    "        \n",
    "        The constructor takes w for training.\n",
    "        \"\"\"\n",
    "        self.w = w\n",
    "\n",
    "    def feval(self,a):\n",
    "        fw = poly.polyval(self.w,a)\n",
    "        fgrad = poly.polyval(self.w,[a[i] * i for i in range(1, len(a))])  \n",
    "        return fw, fgrad"
   ]
  },
  {
   "cell_type": "markdown",
   "id": "27420be4-ed67-4a6a-b7a8-de893034276f",
   "metadata": {},
   "source": [
    "Implement `grad_opt_sim2` that works with class `a`:"
   ]
  },
  {
   "cell_type": "code",
   "execution_count": 10,
   "id": "eccea05a-13c9-45b4-9fa4-d6a17e3d156c",
   "metadata": {},
   "outputs": [],
   "source": [
    "def grad_opt_sim2(winit, lr=1e-3,nit=1000,tol=1e-10,a=[1,1]):\n",
    "    \"\"\"\n",
    "    Simple gradient descent optimization\n",
    "\n",
    "    winit:  Initial estimate\n",
    "    lr:     learning rate\n",
    "    nit:    Number of iterations\n",
    "    tol:  tolerance to compare if value changes between iterations\n",
    "    a:  list of coefficient parameters\n",
    "    \"\"\"\n",
    "    \n",
    "    poly_func = polyFunc(winit)\n",
    "    \n",
    "    # Initialize\n",
    "    count = 0\n",
    "  \n",
    "    # Loop over iterations\n",
    "    for it in range(nit):\n",
    "        \n",
    "        if it > 0:\n",
    "            f0_prev = f0\n",
    "\n",
    "        # Evaluate the function and gradient\n",
    "        f0, fgrad0 = poly_func.feval(a)\n",
    "        \n",
    "        # check if fw value not changing\n",
    "        if it > 0:\n",
    "            if abs(f0-f0_prev) < tol:\n",
    "                count += 1\n",
    "            else:\n",
    "                count = 0\n",
    "            \n",
    "        if count > 5:\n",
    "            break\n",
    "        \n",
    "\n",
    "        # Take a gradient step\n",
    "        poly_func.w = poly_func.w - lr*fgrad0\n",
    "        \n",
    "\n",
    "    return poly_func.w, f0, it"
   ]
  },
  {
   "cell_type": "code",
   "execution_count": 11,
   "id": "f24c0ca7-cdaa-43cb-bb8b-07e4863bf670",
   "metadata": {
    "tags": []
   },
   "outputs": [
    {
     "name": "stdout",
     "output_type": "stream",
     "text": [
      "The minima is at (-1.0575,-1.5148) at iteration # 1916.\n"
     ]
    }
   ],
   "source": [
    "min_x, min_y, it = grad_opt_sim2(winit=-2, lr=5e-4,nit=10000,tol=1e-10,a=[0,0.5,-2,0,1])\n",
    "print(f'The minima is at ({min_x:.4f},{min_y:.4f}) at iteration # {it}.')"
   ]
  },
  {
   "cell_type": "markdown",
   "id": "a9bf5507-749b-4339-9024-3fe5a227c86b",
   "metadata": {},
   "source": [
    "Some test cases:"
   ]
  },
  {
   "cell_type": "code",
   "execution_count": 12,
   "id": "86c59d0a-66cd-406a-9c9b-fd7db556d3e8",
   "metadata": {
    "tags": []
   },
   "outputs": [
    {
     "name": "stdout",
     "output_type": "stream",
     "text": [
      "The minima is at (-0.4658,-0.3166) at iteration # 2462.\n"
     ]
    }
   ],
   "source": [
    "min_x, min_y, it = grad_opt_sim2(winit=-5, lr=5e-4,nit=10000,tol=1e-10,a=[0,1,1,3,5])\n",
    "print(f'The minima is at ({min_x:.4f},{min_y:.4f}) at iteration # {it}.')"
   ]
  },
  {
   "cell_type": "code",
   "execution_count": 13,
   "id": "50b0f9ee-2d5d-4eb3-8877-b718ca2de86a",
   "metadata": {},
   "outputs": [
    {
     "name": "stdout",
     "output_type": "stream",
     "text": [
      "The minima is at (-0.1000,-0.0500) at iteration # 2321.\n"
     ]
    }
   ],
   "source": [
    "min_x, min_y, it = grad_opt_sim2(winit=-5, lr=5e-4,nit=10000,tol=1e-10,a=[0,1,5])\n",
    "print(f'The minima is at ({min_x:.4f},{min_y:.4f}) at iteration # {it}.')"
   ]
  }
 ],
 "metadata": {
  "kernelspec": {
   "display_name": "Python 3 (ipykernel)",
   "language": "python",
   "name": "python3"
  },
  "language_info": {
   "codemirror_mode": {
    "name": "ipython",
    "version": 3
   },
   "file_extension": ".py",
   "mimetype": "text/x-python",
   "name": "python",
   "nbconvert_exporter": "python",
   "pygments_lexer": "ipython3",
   "version": "3.9.13"
  }
 },
 "nbformat": 4,
 "nbformat_minor": 5
}
